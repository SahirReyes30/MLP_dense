{
 "cells": [
  {
   "cell_type": "code",
   "execution_count": 7,
   "metadata": {},
   "outputs": [],
   "source": [
    "import plaidml.keras\n",
    "plaidml.keras.install_backend()\n",
    "\n",
    "from keras.models import Sequential\n",
    "from keras.layers import Dense\n"
   ]
  },
  {
   "cell_type": "code",
   "execution_count": 8,
   "metadata": {},
   "outputs": [
    {
     "name": "stdout",
     "output_type": "stream",
     "text": [
      "Keras version: 2.2.4\n",
      "Keras backend: plaidml\n"
     ]
    }
   ],
   "source": [
    "import keras\n",
    "from keras import backend as K\n",
    "\n",
    "print(\"Keras version:\", keras.__version__)\n",
    "print(\"Keras backend:\", K.backend())"
   ]
  },
  {
   "cell_type": "code",
   "execution_count": 9,
   "metadata": {},
   "outputs": [
    {
     "name": "stdout",
     "output_type": "stream",
     "text": [
      "Epoch 1/5\n",
      "1000/1000 [==============================] - 0s 328us/step - loss: 0.6963 - acc: 0.4980\n",
      "Epoch 2/5\n",
      "1000/1000 [==============================] - 0s 308us/step - loss: 0.6917 - acc: 0.5200\n",
      "Epoch 3/5\n",
      "1000/1000 [==============================] - 0s 318us/step - loss: 0.6873 - acc: 0.5710\n",
      "Epoch 4/5\n",
      "1000/1000 [==============================] - 0s 362us/step - loss: 0.6835 - acc: 0.5610\n",
      "Epoch 5/5\n",
      "1000/1000 [==============================] - 0s 308us/step - loss: 0.6815 - acc: 0.5680\n",
      "Tiempo de entrenamiento: 1.64 segundos\n"
     ]
    }
   ],
   "source": [
    "\n",
    "import numpy as np\n",
    "import time\n",
    "\n",
    "# Crear un conjunto de datos simple\n",
    "X = np.random.rand(1000, 20)\n",
    "y = np.random.randint(2, size=(1000, 1))\n",
    "\n",
    "# Crear un modelo secuencial simple\n",
    "model = Sequential()\n",
    "model.add(Dense(64, input_dim=20, activation='relu'))\n",
    "model.add(Dense(64, activation='relu'))\n",
    "model.add(Dense(1, activation='sigmoid'))\n",
    "\n",
    "# Compilar el modelo\n",
    "model.compile(optimizer='adam', loss='binary_crossentropy', metrics=['accuracy'])\n",
    "\n",
    "# Entrenar el modelo\n",
    "start_time = time.time()\n",
    "model.fit(X, y, epochs=5, batch_size=32)\n",
    "end_time = time.time()\n",
    "\n",
    "print(f\"Tiempo de entrenamiento: {end_time - start_time:.2f} segundos\")\n"
   ]
  },
  {
   "cell_type": "code",
   "execution_count": 10,
   "metadata": {},
   "outputs": [
    {
     "name": "stdout",
     "output_type": "stream",
     "text": [
      "Train on 50000 samples, validate on 10000 samples\n",
      "Epoch 1/10\n",
      "50000/50000 [==============================] - 59s 1ms/step - loss: 1.4766 - acc: 0.4673 - val_loss: 1.1581 - val_acc: 0.5812\n",
      "Epoch 2/10\n",
      "50000/50000 [==============================] - 7s 137us/step - loss: 1.0353 - acc: 0.6371 - val_loss: 0.9491 - val_acc: 0.6674\n",
      "Epoch 3/10\n",
      "50000/50000 [==============================] - 7s 138us/step - loss: 0.8624 - acc: 0.6979 - val_loss: 0.8732 - val_acc: 0.6987\n",
      "Epoch 4/10\n",
      "50000/50000 [==============================] - 7s 138us/step - loss: 0.7415 - acc: 0.7413 - val_loss: 0.8222 - val_acc: 0.7150\n",
      "Epoch 5/10\n",
      "50000/50000 [==============================] - 7s 139us/step - loss: 0.6509 - acc: 0.7741 - val_loss: 0.7679 - val_acc: 0.7338\n",
      "Epoch 6/10\n",
      "50000/50000 [==============================] - 7s 143us/step - loss: 0.5551 - acc: 0.8066 - val_loss: 0.8053 - val_acc: 0.7233\n",
      "Epoch 7/10\n",
      "50000/50000 [==============================] - 7s 143us/step - loss: 0.4786 - acc: 0.8339 - val_loss: 0.7972 - val_acc: 0.7428\n",
      "Epoch 8/10\n",
      "50000/50000 [==============================] - 7s 139us/step - loss: 0.3970 - acc: 0.8619 - val_loss: 0.8231 - val_acc: 0.7455\n",
      "Epoch 9/10\n",
      "50000/50000 [==============================] - 7s 137us/step - loss: 0.3160 - acc: 0.8888 - val_loss: 0.8057 - val_acc: 0.7535\n",
      "Epoch 10/10\n",
      "50000/50000 [==============================] - 7s 144us/step - loss: 0.2436 - acc: 0.9155 - val_loss: 0.9392 - val_acc: 0.7454\n",
      "Tiempo total de entrenamiento: 121.41 segundos\n",
      "Precisión en el conjunto de prueba: 74.54%\n"
     ]
    }
   ],
   "source": [
    "import plaidml.keras\n",
    "plaidml.keras.install_backend()\n",
    "\n",
    "from keras.datasets import cifar10\n",
    "from keras.models import Sequential\n",
    "from keras.layers import Dense, Conv2D, MaxPooling2D, Flatten\n",
    "from keras.utils import np_utils\n",
    "import time\n",
    "\n",
    "# Cargar el conjunto de datos CIFAR-10\n",
    "(X_train, y_train), (X_test, y_test) = cifar10.load_data()\n",
    "\n",
    "# Preprocesamiento de los datos\n",
    "X_train = X_train.astype('float32')\n",
    "X_test = X_test.astype('float32')\n",
    "X_train /= 255\n",
    "X_test /= 255\n",
    "\n",
    "# Convertir las etiquetas a one-hot encoding\n",
    "y_train = np_utils.to_categorical(y_train, 10)\n",
    "y_test = np_utils.to_categorical(y_test, 10)\n",
    "\n",
    "# Definir el modelo CNN\n",
    "model = Sequential()\n",
    "model.add(Conv2D(32, (3, 3), padding='same', input_shape=(32, 32, 3), activation='relu'))\n",
    "model.add(MaxPooling2D(pool_size=(2, 2)))\n",
    "model.add(Conv2D(64, (3, 3), padding='same', activation='relu'))\n",
    "model.add(MaxPooling2D(pool_size=(2, 2)))\n",
    "model.add(Conv2D(128, (3, 3), padding='same', activation='relu'))\n",
    "model.add(MaxPooling2D(pool_size=(2, 2)))\n",
    "model.add(Flatten())\n",
    "model.add(Dense(512, activation='relu'))\n",
    "model.add(Dense(10, activation='softmax'))\n",
    "\n",
    "# Compilar el modelo\n",
    "model.compile(optimizer='adam', loss='categorical_crossentropy', metrics=['accuracy'])\n",
    "\n",
    "# Entrenar el modelo y medir el tiempo\n",
    "start_time = time.time()\n",
    "history = model.fit(X_train, y_train, batch_size=128, epochs=10, validation_data=(X_test, y_test), verbose=1)\n",
    "end_time = time.time()\n",
    "\n",
    "print(f\"Tiempo total de entrenamiento: {end_time - start_time:.2f} segundos\")\n",
    "\n",
    "# Evaluar el modelo en los datos de prueba\n",
    "scores = model.evaluate(X_test, y_test, verbose=0)\n",
    "print(f\"Precisión en el conjunto de prueba: {scores[1]*100:.2f}%\")\n"
   ]
  },
  {
   "cell_type": "code",
   "execution_count": 11,
   "metadata": {},
   "outputs": [
    {
     "name": "stdout",
     "output_type": "stream",
     "text": [
      "Epoch 1/5\n",
      "1000/1000 [==============================] - 12s 12ms/step - loss: 0.7001 - acc: 0.5000\n",
      "Epoch 2/5\n",
      "1000/1000 [==============================] - 0s 318us/step - loss: 0.6916 - acc: 0.5320\n",
      "Epoch 3/5\n",
      "1000/1000 [==============================] - 0s 294us/step - loss: 0.6907 - acc: 0.5300\n",
      "Epoch 4/5\n",
      "1000/1000 [==============================] - 0s 302us/step - loss: 0.6864 - acc: 0.5410\n",
      "Epoch 5/5\n",
      "1000/1000 [==============================] - 0s 309us/step - loss: 0.6823 - acc: 0.5850\n",
      "Tiempo de entrenamiento: 13.65 segundos\n"
     ]
    }
   ],
   "source": [
    "import os\n",
    "import numpy as np\n",
    "import time\n",
    "from keras.models import Sequential\n",
    "from keras.layers import Dense\n",
    "\n",
    "# Desactivar PlaidML y asegurarse de que TensorFlow/Keras usen la CPU\n",
    "os.environ[\"KERAS_BACKEND\"] = \"tensorflow\"\n",
    "os.environ[\"CUDA_VISIBLE_DEVICES\"] = \"-1\"  # Esto desactiva todas las GPUs visibles para TensorFlow\n",
    "\n",
    "# Crear un conjunto de datos simple\n",
    "X = np.random.rand(1000, 20)\n",
    "y = np.random.randint(2, size=(1000, 1))\n",
    "\n",
    "# Crear un modelo secuencial simple\n",
    "model = Sequential()\n",
    "model.add(Dense(64, input_dim=20, activation='relu'))\n",
    "model.add(Dense(64, activation='relu'))\n",
    "model.add(Dense(1, activation='sigmoid'))\n",
    "\n",
    "# Compilar el modelo\n",
    "model.compile(optimizer='adam', loss='binary_crossentropy', metrics=['accuracy'])\n",
    "\n",
    "# Entrenar el modelo\n",
    "start_time = time.time()\n",
    "model.fit(X, y, epochs=5, batch_size=32)\n",
    "end_time = time.time()\n",
    "\n",
    "print(f\"Tiempo de entrenamiento: {end_time - start_time:.2f} segundos\")\n"
   ]
  }
 ],
 "metadata": {
  "kernelspec": {
   "display_name": "radeon",
   "language": "python",
   "name": "python3"
  },
  "language_info": {
   "codemirror_mode": {
    "name": "ipython",
    "version": 3
   },
   "file_extension": ".py",
   "mimetype": "text/x-python",
   "name": "python",
   "nbconvert_exporter": "python",
   "pygments_lexer": "ipython3",
   "version": "3.8.19"
  }
 },
 "nbformat": 4,
 "nbformat_minor": 2
}
